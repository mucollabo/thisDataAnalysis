{
 "cells": [
  {
   "cell_type": "code",
   "execution_count": 9,
   "metadata": {
    "collapsed": true
   },
   "outputs": [
    {
     "name": "stdout",
     "output_type": "stream",
     "text": [
      "https://namu.wiki/w/%EC%9C%A0%EA%B3%A1%EB%A6%AC%EA%B3%B5%EC%98%81%EC%B0%A8%EA%B3%A0%EC%A7%80\n",
      "https://namu.wiki/w/Mr.%ED%95%B4%EA%B3%A8\n",
      "https://namu.wiki/w/%ED%8C%8C%EC%9D%BC:oso_3rd_bd_6th.webp\n",
      "https://namu.wiki/w/%EC%B2%AD(%EC%97%98%EC%86%8C%EB%93%9C)/%EC%84%BC%EC%B8%84%EB%A6%AC%EC%98%A8\n",
      "https://namu.wiki/w/%EC%8B%A0%EC%9E%AC%EC%98%81\n"
     ]
    }
   ],
   "source": [
    "# -*- coding: utf-8 -*-\n",
    "\n",
    "%matplotlib inline\n",
    "\n",
    "import pandas as pd\n",
    "import numpy as np\n",
    "import matplotlib.pyplot as plt\n",
    "import warnings\n",
    "warnings.filterwarnings(\"ignore\")\n",
    "\n",
    "import cloudscraper\n",
    "from bs4 import BeautifulSoup\n",
    "import re\n",
    "\n",
    "source_url = \"https://namu.wiki/RecentChanges\"\n",
    "\n",
    "scraper = cloudscraper.create_scraper()\n",
    "req = scraper.get(source_url)\n",
    "html = req.content\n",
    "soup = BeautifulSoup(html, 'lxml')\n",
    "contents_table = soup.find(name='table')\n",
    "table_body = contents_table.find(name=\"tbody\")\n",
    "table_rows = table_body.find_all(name=\"tr\")\n",
    "\n",
    "page_url_base = \"https://namu.wiki\"\n",
    "page_urls = []\n",
    "for index in range(0, len(table_rows)):\n",
    "    first_td = table_rows[index].find_all('td')[0]\n",
    "    td_url = first_td.find_all('a')\n",
    "    if len(td_url) > 0:\n",
    "        page_url = page_url_base + td_url[0].get('href')\n",
    "        if 'png' not in page_url:\n",
    "            page_urls.append(page_url)\n",
    "\n",
    "page_urls = list(set(page_urls))\n",
    "for page in page_urls[:5]:\n",
    "    print(page)"
   ]
  },
  {
   "cell_type": "code",
   "execution_count": 10,
   "outputs": [
    {
     "name": "stdout",
     "output_type": "stream",
     "text": [
      "유곡리공영차고지 \n",
      "\n",
      "\n",
      "대구광역시의 시내버스\n",
      "\n",
      "\n",
      "   로그인 후 편집 가능한 문서입니다. 대구광역시 시내버스 공영차고지 목록동호매곡대천관음방천대곡방촌봉무2021.6.유곡범물제2범물연경지구2021.12.대곡2지구2022금호워터폴리스20231. 개요2. 상세3. 운행노선油谷里公營車庫地 | Yugok-ri Public Garage대구광역시 달성군 유가읍 테크노중앙대로2길 45(유곡리)에 소재하는 총 면적 16,700m2의 시내버스 공영 차고지. 2017년 3월 29일에 현대교통[1]과 세한여객이 입주했다.CNG충전소는 설치되지 않아 여전히 논공읍 하리CNG충전소까지 가서 충전해야 한다. 특히 유곡네거리 인근에 있는 공장들 중 일부가 전세버스를 천연가스버스로 다니고 있는 것으로 발견됨에 따라 이런 것을 배려하지 못하고 있다는 점이 유곡리공영차고지의 단점으로 나타난다.게다가 업체 간 이해관계 때문에 노선 재배정이 아직 되지 않고 있어서, 멀리 가 보았자 동구나 수성구에 얼씬도 안 하는 세한여객과 달리[2] 현대교통은 엄청난 공차거리를 감수하며 운행 중이다.[3][4]급행8번이 신설 초기[5]에 이 차고지 자리 북쪽의 유곡네거리 정류장을 회차지로 사용했지만, 얼마 후 구지면 내리 달성2차산단으로 연장한 관계로 2017년 4월 개장 후에도 (무정차 통과 중이던) 달성5번 유곡1리행 외에는 한동안 이 차고지를 종점으로 하는 노선이 없었다. 2017년 5월 19일부터 시행 중인 RH 탄력배차 노선은 유가읍 봉리 제일풍경채센트럴까지 운행했으며, 증차 후에는 유곡리공영차고지와 비교적 가까운 북동쪽의 용금공단네거리로 연장되었다.2019년 4월 20일부터 달성8(-1)번을 흡수하는 655번과[6] 급행4번이 이 차고지를 종점으로 사용한다.2019년 6월 5일부터 차고지 앞에 정류장이 신설되었다.급행4번(유곡리공영차고지 ~ 달성1차산단 ~ 설화명곡역)655번(유곡리공영차고지 ~ 대천동공영차고지 ~ 매곡리공영차고지)중간경유 노선 달성5번(유곡1리 중간경유 지선)\n"
     ]
    }
   ],
   "source": [
    "# URL 페이지 정보를 기반으로 크롤링하기\n",
    "# 하나의 최근 변경된 문서를 크롤링합니다.\n",
    "\n",
    "req = scraper.get(page_urls[0])\n",
    "html = req.content\n",
    "soup = BeautifulSoup(html, 'lxml')\n",
    "contents_table = soup.find(name=\"article\")\n",
    "title = contents_table.find_all('h1')[0]\n",
    "category = contents_table.find_all('ul')[0]\n",
    "content_paragraphs = contents_table.find_all(name=\"div\", attrs={\"class\":\"wiki-paragraph\"})\n",
    "content_corpus_list = []\n",
    "\n",
    "# 크롤링한 문서 정보 출력\n",
    "for paragraphs in content_paragraphs:\n",
    "    content_corpus_list.append(paragraphs.text)\n",
    "content_corpus = \"\".join(content_corpus_list)\n",
    "\n",
    "print(title.text)\n",
    "print(\"\\n\")\n",
    "print(category.text)\n",
    "print(\"\\n\")\n",
    "print(content_corpus)"
   ],
   "metadata": {
    "collapsed": false,
    "pycharm": {
     "name": "#%%\n"
    }
   }
  },
  {
   "cell_type": "markdown",
   "source": [
    "### 나무위키 최근 변경 페이지 키워드 분석하기"
   ],
   "metadata": {
    "collapsed": false,
    "pycharm": {
     "name": "#%% md\n"
    }
   }
  },
  {
   "cell_type": "code",
   "execution_count": 6,
   "outputs": [],
   "source": [
    "# -*- coding: utf-8 -*-\n",
    "\n",
    "%matplotlib inline\n",
    "\n",
    "import pandas as pd\n",
    "import numpy as np\n",
    "import matplotlib.pyplot as plt\n",
    "import requests\n",
    "from bs4 import BeautifulSoup\n",
    "import re\n",
    "\n",
    "source_url = \"https://namu.wiki/RecentChanges\"\n",
    "\n",
    "req = requests.get(source_url)\n",
    "html = req.content\n",
    "soup = BeautifulSoup(html, 'lxml')\n",
    "contents_table = soup.find(name=\"table\")\n",
    "table_body = contents_table.find(name=\"tbody\")\n",
    "table_rows = table_body.find_all(name=\"tr\")\n",
    "\n",
    "page_url_base = \"https://namu.wiki\"\n",
    "page_urls = []\n",
    "for index in range(0, len(table_rows)):\n",
    "    first_td = table_rows[index].find_all('td')[0]\n",
    "    td_url = first_td.find_all('a')\n",
    "    if len(td_url) > 0:\n",
    "        page_url = page_url_base + td_url[0].get('href')\n",
    "        if 'png' not in page_url:\n",
    "            page_urls.append(page_url)\n",
    "\n",
    "page_urls = list(set(page_urls))"
   ],
   "metadata": {
    "collapsed": false,
    "pycharm": {
     "name": "#%%\n"
    }
   }
  },
  {
   "cell_type": "code",
   "execution_count": 9,
   "outputs": [
    {
     "data": {
      "text/plain": "              title                                           category  \\\n0     Agatha Knife   2017년 게임스페인 게임인디 게임포인트 앤 클릭 어드벤처 게임Windows 게임/...   \n1             대륙철학                                           철학의 하위 학문   \n2  파일:고색역 1번출구.jpg                                               파일/철도   \n3            디터 라저               독일 남배우1942년 출생2020년 사망1962년 데뷔킬 출신 인물   \n4         신/창작물/목록                                                창작물신   \n5              황룡갑   유튜버/ㅎ대한민국의 남성 인터넷 방송인/ㅎ1996년 출생대구광역시 출신 인물경북고등...   \n6  파일:고색역 역명판1.jpg                                         파일/철도/역 안내도   \n7  LG 트윈스/2021년/5월                                        LG 트윈스/2021년   \n8              영미터                                               유튜버/ㅇ   \n9       자살 소년/등장인물                                             작품별 캐릭터   \n\n                                        content_text  \n0    개발Mango protocol장르포인트 앤 클릭 어드벤처 게임출시2017년 4월...  \n1  +서양 철학사20세기 이후 철학 [ 펼치기 · 접기 ]고대 철학중세 철학근현대 철학...  \n2   이 이미지는 크리에이티브 커먼즈 저작자표시 2.0 대한민국 라이선스로 배포됩니다....  \n3   이름 디터 라저  (Dieter Laser)  생년월일 1942년 2월 17일  ...  \n4     상위 문서: 신/창작물이 문서는 각 국가의 신화나 경전 등이 아닌 게임, 만화...  \n5  핫소스 유니버스핫소스핫식당배말랭황룡갑황룡갑본명황해성출생1996년 2월 14일대구광역...  \n6   이 이미지는 크리에이티브 커먼즈 저작자표시 2.0 대한민국 라이선스로 배포됩니다....  \n7     상위 문서: LG 트윈스/2021년LG 트윈스2021 시즌별 경기LG 트윈스2...  \n8    영미터      Gganye.west  국적 대한민국반려묘율무, 율리, 율봉, ...  \n9     상위 문서: 자살 소년이 문서에 스포일러가 포함되어 있습니다.이 문서가 설명하...  ",
      "text/html": "<div>\n<style scoped>\n    .dataframe tbody tr th:only-of-type {\n        vertical-align: middle;\n    }\n\n    .dataframe tbody tr th {\n        vertical-align: top;\n    }\n\n    .dataframe thead th {\n        text-align: right;\n    }\n</style>\n<table border=\"1\" class=\"dataframe\">\n  <thead>\n    <tr style=\"text-align: right;\">\n      <th></th>\n      <th>title</th>\n      <th>category</th>\n      <th>content_text</th>\n    </tr>\n  </thead>\n  <tbody>\n    <tr>\n      <th>0</th>\n      <td>Agatha Knife</td>\n      <td>2017년 게임스페인 게임인디 게임포인트 앤 클릭 어드벤처 게임Windows 게임/...</td>\n      <td>개발Mango protocol장르포인트 앤 클릭 어드벤처 게임출시2017년 4월...</td>\n    </tr>\n    <tr>\n      <th>1</th>\n      <td>대륙철학</td>\n      <td>철학의 하위 학문</td>\n      <td>+서양 철학사20세기 이후 철학 [ 펼치기 · 접기 ]고대 철학중세 철학근현대 철학...</td>\n    </tr>\n    <tr>\n      <th>2</th>\n      <td>파일:고색역 1번출구.jpg</td>\n      <td>파일/철도</td>\n      <td>이 이미지는 크리에이티브 커먼즈 저작자표시 2.0 대한민국 라이선스로 배포됩니다....</td>\n    </tr>\n    <tr>\n      <th>3</th>\n      <td>디터 라저</td>\n      <td>독일 남배우1942년 출생2020년 사망1962년 데뷔킬 출신 인물</td>\n      <td>이름 디터 라저  (Dieter Laser)  생년월일 1942년 2월 17일  ...</td>\n    </tr>\n    <tr>\n      <th>4</th>\n      <td>신/창작물/목록</td>\n      <td>창작물신</td>\n      <td>상위 문서: 신/창작물이 문서는 각 국가의 신화나 경전 등이 아닌 게임, 만화...</td>\n    </tr>\n    <tr>\n      <th>5</th>\n      <td>황룡갑</td>\n      <td>유튜버/ㅎ대한민국의 남성 인터넷 방송인/ㅎ1996년 출생대구광역시 출신 인물경북고등...</td>\n      <td>핫소스 유니버스핫소스핫식당배말랭황룡갑황룡갑본명황해성출생1996년 2월 14일대구광역...</td>\n    </tr>\n    <tr>\n      <th>6</th>\n      <td>파일:고색역 역명판1.jpg</td>\n      <td>파일/철도/역 안내도</td>\n      <td>이 이미지는 크리에이티브 커먼즈 저작자표시 2.0 대한민국 라이선스로 배포됩니다....</td>\n    </tr>\n    <tr>\n      <th>7</th>\n      <td>LG 트윈스/2021년/5월</td>\n      <td>LG 트윈스/2021년</td>\n      <td>상위 문서: LG 트윈스/2021년LG 트윈스2021 시즌별 경기LG 트윈스2...</td>\n    </tr>\n    <tr>\n      <th>8</th>\n      <td>영미터</td>\n      <td>유튜버/ㅇ</td>\n      <td>영미터      Gganye.west  국적 대한민국반려묘율무, 율리, 율봉, ...</td>\n    </tr>\n    <tr>\n      <th>9</th>\n      <td>자살 소년/등장인물</td>\n      <td>작품별 캐릭터</td>\n      <td>상위 문서: 자살 소년이 문서에 스포일러가 포함되어 있습니다.이 문서가 설명하...</td>\n    </tr>\n  </tbody>\n</table>\n</div>"
     },
     "execution_count": 9,
     "metadata": {},
     "output_type": "execute_result"
    }
   ],
   "source": [
    "# 나무위키의 최근 변경 데이터 크롤링하기\n",
    "\n",
    "columns = ['title', 'category', 'content_text']\n",
    "df = pd.DataFrame(columns = columns)\n",
    "\n",
    "for page_url in page_urls:\n",
    "    req = requests.get(page_url)\n",
    "    html = req.content\n",
    "    soup = BeautifulSoup(html, 'lxml')\n",
    "    contents_table = soup.find(name=\"article\")\n",
    "    title = contents_table.find_all('h1')[0]\n",
    "    category = contents_table.find_all('ul')[0]\n",
    "    content_paragraphs = contents_table.find_all(name=\"div\", attrs={\"class\":\"wiki-paragraph\"})\n",
    "    content_corpus_list = []\n",
    "\n",
    "    if title is not None:\n",
    "        row_title = title.text.replace(\"\\n\", \" \")\n",
    "    else:\n",
    "        row_title = \"\"\n",
    "\n",
    "    if content_paragraphs is not None:\n",
    "        for paragraphs in content_paragraphs:\n",
    "            if paragraphs is not None:\n",
    "                content_corpus_list.append(paragraphs.text.replace(\"\\n\", \" \"))\n",
    "            else:\n",
    "                content_corpus_list.append(\"\")\n",
    "    else:\n",
    "        content_corpus_list.append(\"\")\n",
    "\n",
    "    if category is not None:\n",
    "        row_category = category.text.replace(\"\\n\", \" \")\n",
    "    else:\n",
    "        row_category = \"\"\n",
    "\n",
    "    row = [row_title, row_category, \"\".join(content_corpus_list)]\n",
    "    series = pd.Series(row, index=df.columns)\n",
    "    df = df.append(series, ignore_index=True)\n",
    "\n",
    "df.head(10)"
   ],
   "metadata": {
    "collapsed": false,
    "pycharm": {
     "name": "#%%\n"
    }
   }
  },
  {
   "cell_type": "code",
   "execution_count": null,
   "outputs": [],
   "source": [],
   "metadata": {
    "collapsed": false,
    "pycharm": {
     "name": "#%%\n"
    }
   }
  }
 ],
 "metadata": {
  "kernelspec": {
   "display_name": "Python 3",
   "language": "python",
   "name": "python3"
  },
  "language_info": {
   "codemirror_mode": {
    "name": "ipython",
    "version": 2
   },
   "file_extension": ".py",
   "mimetype": "text/x-python",
   "name": "python",
   "nbconvert_exporter": "python",
   "pygments_lexer": "ipython2",
   "version": "2.7.6"
  }
 },
 "nbformat": 4,
 "nbformat_minor": 0
}