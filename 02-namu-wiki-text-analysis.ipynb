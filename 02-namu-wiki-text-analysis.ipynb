{
 "cells": [
  {
   "cell_type": "code",
   "execution_count": 5,
   "metadata": {
    "collapsed": true
   },
   "outputs": [
    {
     "name": "stdout",
     "output_type": "stream",
     "text": [
      "https://namu.wiki/w/%ED%8C%8C%EC%B2%9C%EB%AC%B4\n",
      "https://namu.wiki/w/%EC%9E%A5%EB%AA%85%EB%B6%80\n",
      "https://namu.wiki/w/%EC%95%84%EB%8D%B4%ED%8A%B8(%EB%B2%BD%EB%9E%8C%ED%95%AD%EB%A1%9C)\n",
      "https://namu.wiki/w/%EC%9D%B4%EB%82%A0%EC%B9%98\n",
      "https://namu.wiki/w/%EB%A6%AC%EB%94%94%20%26%20%EC%88%98%EB%A5%B4%EC%9D%98%20%EC%95%84%ED%8B%80%EB%A6%AC%EC%97%90%20~%EC%8B%A0%EB%B9%84%ED%95%9C%20%EA%B7%B8%EB%A6%BC%EC%9D%98%20%EC%97%B0%EA%B8%88%EC%88%A0%EC%82%AC~\n"
     ]
    }
   ],
   "source": [
    "import requests\n",
    "from bs4 import BeautifulSoup\n",
    "import re\n",
    "\n",
    "source_url = \"https://namu.wiki/RecentChanges\"\n",
    "\n",
    "req = requests.get(source_url)\n",
    "html = req.content\n",
    "soup = BeautifulSoup(html, 'lxml')\n",
    "contents_table = soup.find(name='table')\n",
    "table_body = contents_table.find(name=\"tbody\")\n",
    "table_rows = table_body.find_all(name=\"tr\")\n",
    "\n",
    "page_url_base = \"https://namu.wiki\"\n",
    "page_urls = []\n",
    "for index in range(0, len(table_rows)):\n",
    "    first_td = table_rows[index].find_all('td')[0]\n",
    "    td_url = first_td.find_all('a')\n",
    "    if len(td_url) > 0:\n",
    "        page_url = page_url_base + td_url[0].get('href')\n",
    "        if 'png' not in page_url:\n",
    "            page_urls.append(page_url)\n",
    "\n",
    "page_urls = list(set(page_urls))\n",
    "for page in page_urls[:5]:\n",
    "    print(page)"
   ]
  },
  {
   "cell_type": "code",
   "execution_count": null,
   "outputs": [],
   "source": [],
   "metadata": {
    "collapsed": false,
    "pycharm": {
     "name": "#%%\n"
    }
   }
  }
 ],
 "metadata": {
  "kernelspec": {
   "display_name": "Python 3",
   "language": "python",
   "name": "python3"
  },
  "language_info": {
   "codemirror_mode": {
    "name": "ipython",
    "version": 2
   },
   "file_extension": ".py",
   "mimetype": "text/x-python",
   "name": "python",
   "nbconvert_exporter": "python",
   "pygments_lexer": "ipython2",
   "version": "2.7.6"
  }
 },
 "nbformat": 4,
 "nbformat_minor": 0
}